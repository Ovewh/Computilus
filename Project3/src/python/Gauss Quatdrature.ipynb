{
 "cells": [
  {
   "cell_type": "code",
   "execution_count": 14,
   "metadata": {},
   "outputs": [],
   "source": [
    "import matplotlib.pyplot as plt"
   ]
  },
  {
   "cell_type": "code",
   "execution_count": 7,
   "metadata": {},
   "outputs": [
    {
     "data": {
      "text/plain": [
       "'1.16.4'"
      ]
     },
     "execution_count": 7,
     "metadata": {},
     "output_type": "execute_result"
    }
   ],
   "source": [
    "from numpy.polynomial.laguerre import laggauss\n",
    "\n",
    "np.version.version"
   ]
  },
  {
   "cell_type": "code",
   "execution_count": 11,
   "metadata": {},
   "outputs": [
    {
     "data": {
      "text/plain": [
       "(array([-0.97390653, -0.86506337, -0.67940957, -0.43339539, -0.14887434,\n",
       "         0.14887434,  0.43339539,  0.67940957,  0.86506337,  0.97390653]),\n",
       " array([0.06667134, 0.14945135, 0.21908636, 0.26926672, 0.29552422,\n",
       "        0.29552422, 0.26926672, 0.21908636, 0.14945135, 0.06667134]))"
      ]
     },
     "execution_count": 11,
     "metadata": {},
     "output_type": "execute_result"
    }
   ],
   "source": [
    "from scipy.special import roots_legendre\n",
    "\n",
    "roots_legendre(10)"
   ]
  },
  {
   "cell_type": "markdown",
   "metadata": {},
   "source": [
    "\\begin{equation}\n",
    "r_i = \\sqrt{x_i^2 + y_i^2 + z_i^2} \n",
    "\\end{equation}"
   ]
  },
  {
   "cell_type": "code",
   "execution_count": 34,
   "metadata": {},
   "outputs": [
    {
     "name": "stderr",
     "output_type": "stream",
     "text": [
      "/home/ovewh/anaconda3/lib/python3.7/site-packages/numba/decorators.py:220: RuntimeWarning: nopython is set for njit and is ignored\n",
      "  warnings.warn('nopython is set for njit and is ignored', RuntimeWarning)\n"
     ]
    },
    {
     "name": "stdout",
     "output_type": "stream",
     "text": [
      "0\n",
      "1\n",
      "2\n",
      "3\n",
      "4\n",
      "5\n",
      "6\n",
      "7\n",
      "8\n",
      "9\n",
      "10\n",
      "11\n",
      "12\n",
      "13\n",
      "14\n",
      "15\n",
      "16\n",
      "17\n",
      "18\n",
      "19\n",
      "20\n",
      "21\n",
      "22\n",
      "23\n",
      "24\n",
      "25\n",
      "26\n",
      "27\n",
      "28\n",
      "29\n",
      "Analytical: 0.19277\n",
      "Result: 0.18580\n",
      "Error: 0.00697\n"
     ]
    }
   ],
   "source": [
    "# %load legendre.py\n",
    "import numpy as np\n",
    "import matplotlib.pyplot as plt\n",
    "from mpl_toolkits.mplot3d import Axes3D\n",
    "from numba import jit, njit, prange\n",
    "from numpy.polynomial.legendre import leggauss\n",
    "\n",
    "\n",
    "N = 30\n",
    "\n",
    "x,w = leggauss(N)\n",
    "a = -2\n",
    "b = 2\n",
    "\n",
    "\n",
    "@njit(paraellel=True)\n",
    "def integrate(x,a,b, alpha=2):\n",
    "    totalSum = 0\n",
    "    xl = (b+a)*0.5\n",
    "    xm = (b-a)*0.5 \n",
    "    for i in prange(N):\n",
    "        for j in prange(N):\n",
    "            for k in prange(N):\n",
    "                for l in prange(N):\n",
    "                    for m in prange(N):\n",
    "                        for n in prange(N):\n",
    "                            x1, y1, z1, x2, y2, z2 = xm*x[i]+xl, xm*x[j]+xl, xm*x[k]+xl, xm*x[l]+xl, xm*x[m]+xl, xm*x[n]+xl\n",
    "                            exp1 = -2*alpha*np.sqrt(x1*x1+ y1*y1 + z1*z1)\n",
    "                            exp2 = -2*alpha*np.sqrt(x2*x2+y2*y2+z2*z2)\n",
    "                            deno = np.sqrt((x1-x2)**2 + (y1-y2)**2 + (z1-z2)**2)\n",
    "                            weight = w[i]*w[j]*w[k]*w[l]*w[m]*w[n]\n",
    "\n",
    "                            if deno > 10**-10:\n",
    "                                totalSum += weight*np.exp(exp1+ exp2)/deno\n",
    "        print(i)\n",
    "    return totalSum*((b-a)*0.5)**6\n",
    "\n",
    "\n",
    "result =integrate(x,a=-2,b=2)\n",
    "analytical = 5*np.pi**2/16**2\n",
    "error = analytical-result\n",
    "print('Analytical: {:.5f}'.format(analytical))\n",
    "print('Result: {:.5f}'.format(result))\n",
    "print('Error: {:.5f}'.format(error))"
   ]
  },
  {
   "cell_type": "code",
   "execution_count": 33,
   "metadata": {},
   "outputs": [
    {
     "name": "stdout",
     "output_type": "stream",
     "text": [
      "10\n",
      "0\n",
      "30\n",
      "20\n",
      "11\n",
      "1\n",
      "21\n",
      "31\n",
      "12\n",
      "2\n",
      "22\n",
      "32\n",
      "13\n",
      "3\n",
      "23\n",
      "33\n",
      "14\n",
      "4\n",
      "24\n",
      "34\n",
      "15\n",
      "5\n",
      "25\n",
      "35\n",
      "16\n",
      "6\n",
      "26\n",
      "36\n",
      "17\n",
      "7\n",
      "27\n",
      "37\n",
      "18\n",
      "8\n",
      "28\n",
      "19\n",
      "38\n",
      "9\n",
      "29\n",
      "39\n",
      "Analytical: 0.19277\n",
      "Result: 0.19467\n",
      "Error: -0.00190\n"
     ]
    }
   ],
   "source": [
    "# %load laguerre.py\n",
    "import numpy as np\n",
    "import matplotlib.pyplot as plt\n",
    "from mpl_toolkits.mplot3d import Axes3D\n",
    "from numba import njit, prange\n",
    "from numpy.polynomial.legendre import leggauss\n",
    "from scipy.special import roots_laguerre\n",
    "\n",
    "\n",
    "\n",
    "N =40\n",
    "x,wga  = roots_laguerre(N)\n",
    "\n",
    "leg, wge = leggauss(N)\n",
    "\n",
    "@njit(parallel=True)\n",
    "def integrate(x, leg, wga, wge):\n",
    "    totalSum = 0\n",
    "    thetaScalem = np.pi/2\n",
    "    pScalem = 2*np.pi/2 \n",
    "    for i in prange(N):\n",
    "        for j in prange(N):\n",
    "            for k in prange(N):\n",
    "                for l in prange(N):\n",
    "                    for m in prange(N):\n",
    "                        for n in prange(N):\n",
    "                            r1, t1, phi1 = x[i], thetaScalem*leg[j] + thetaScalem, pScalem*leg[k] +pScalem\n",
    "                            r2, t2, phi2 = x[l], thetaScalem*leg[m] + thetaScalem, pScalem*leg[n] +pScalem\n",
    "\n",
    "                            cosbeta = np.cos(t1)*np.cos(t2) + (np.sin(t1)*np.sin(t2)*np.cos(phi1-phi2))\n",
    "                            func = np.exp(-3*(r1+r2))*r1*r1*r2*r2*np.sin(t1)*np.sin(t2)\n",
    "                            denom = r1*r1+r2*r2-(2*r1*r2*cosbeta)\n",
    "                            if denom > 1e-10:\n",
    "                                weight =  wga[i]*wga[l]*wge[j]*wge[m]*wge[k]*wge[n]\n",
    "                                func = func/np.sqrt(denom)\n",
    "                                totalSum += func*weight\n",
    "        print(i)\n",
    "    return pScalem**2*thetaScalem**2*totalSum\n",
    "\n",
    "\n",
    "result = integrate(x,leg, wga, wge)\n",
    "analytical = 5*np.pi**2/16**2\n",
    "error = analytical - result\n",
    "\n",
    "print('Analytical: {:.5f}'.format(analytical))\n",
    "print('Result: {:.5f}'.format(result))\n",
    "print('Error: {:.5f}'.format(error))\n"
   ]
  },
  {
   "cell_type": "markdown",
   "metadata": {},
   "source": [
    "We see that $e^{-2\\alpha r_i} \\approx 0$ when $\\lambda = 7$ "
   ]
  }
 ],
 "metadata": {
  "kernelspec": {
   "display_name": "Python 3",
   "language": "python",
   "name": "python3"
  },
  "language_info": {
   "codemirror_mode": {
    "name": "ipython",
    "version": 3
   },
   "file_extension": ".py",
   "mimetype": "text/x-python",
   "name": "python",
   "nbconvert_exporter": "python",
   "pygments_lexer": "ipython3",
   "version": "3.7.3"
  }
 },
 "nbformat": 4,
 "nbformat_minor": 2
}
