{
 "cells": [
  {
   "cell_type": "code",
   "execution_count": 14,
   "metadata": {},
   "outputs": [],
   "source": [
    "import matplotlib.pyplot as plt"
   ]
  },
  {
   "cell_type": "code",
   "execution_count": 51,
   "metadata": {},
   "outputs": [
    {
     "data": {
      "text/plain": [
       "-20866.70892845587"
      ]
     },
     "execution_count": 51,
     "metadata": {},
     "output_type": "execute_result"
    }
   ],
   "source": [
    "import numpy as np\n",
    "from scipy.integrate import quadrature, quad\n",
    "\n",
    "from numpy.polynomial.legendre import leggauss\n",
    "\n",
    "\n",
    "\n",
    "sample, weights = leggauss(20)\n",
    "\n",
    "def f(x):\n",
    "    return x*np.exp(-x)\n",
    "    \n",
    "\n",
    "\n",
    "\n",
    "integral = 8*np.sum(f(8*sample)*weights)\n",
    "\n",
    "integral"
   ]
  },
  {
   "cell_type": "markdown",
   "metadata": {},
   "source": [
    "\\begin{equation}\n",
    "r_i = \\sqrt{x_i^2 + y_i^2 + z_i^2} \n",
    "\\end{equation}"
   ]
  },
  {
   "cell_type": "code",
   "execution_count": null,
   "metadata": {},
   "outputs": [],
   "source": [
    "def initfunc(x_1, x_2,y_1 y_2, ,z_1,z_2):\n",
    "     return np.sqrt((x_1-x_2)**2 + (y_1-y_2)**2, + (z_1-z_2))\n",
    "    \n",
    "\n",
    "    "
   ]
  },
  {
   "cell_type": "code",
   "execution_count": 52,
   "metadata": {},
   "outputs": [
    {
     "data": {
      "text/plain": [
       "[<matplotlib.lines.Line2D at 0x7fe6afa92208>]"
      ]
     },
     "execution_count": 52,
     "metadata": {},
     "output_type": "execute_result"
    },
    {
     "data": {
      "image/png": "[encoded data removed]",
      "text/plain": [
       "<Figure size 576x360 with 1 Axes>"
      ]
     },
     "metadata": {
      "needs_background": "light"
     },
     "output_type": "display_data"
    }
   ],
   "source": [
    "x = np.linspace(0, 15, 1000)\n",
    "\n",
    "y = lambda x: np.exp(-2*x)\n",
    "\n",
    "plt.figure(figsize=(8,5))\n",
    "plt.title('$e^{-2a \\cdot r_i}$')\n",
    "plt.plot(x, y(x), color = 'blueviolet')\n",
    "# plt.semilogx();\n",
    "plt.semilogy();\n",
    "plt.grid()\n",
    "plt.plot(8,y(8), 'x', color = 'fuchsia', ms = 12)"
   ]
  },
  {
   "cell_type": "markdown",
   "metadata": {},
   "source": [
    "We see that $e^{-2\\alpha r_i} \\approx 0$ when $\\lambda = 7$ "
   ]
  }
 ],
 "metadata": {
  "kernelspec": {
   "display_name": "Python 3",
   "language": "python",
   "name": "python3"
  },
  "language_info": {
   "codemirror_mode": {
    "name": "ipython",
    "version": 3
   },
   "file_extension": ".py",
   "mimetype": "text/x-python",
   "name": "python",
   "nbconvert_exporter": "python",
   "pygments_lexer": "ipython3",
   "version": "3.7.3"
  }
 },
 "nbformat": 4,
 "nbformat_minor": 2
}
