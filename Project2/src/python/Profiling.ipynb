{
 "cells": [
  {
   "cell_type": "markdown",
   "metadata": {},
   "source": [
    "# Python timings\n",
    "\n",
    "Goal:\n",
    "\n",
    "* Evaluate the performance of Cython and Numba compared to standard python\n",
    "\n",
    "First run the test"
   ]
  },
  {
   "cell_type": "code",
   "execution_count": 1,
   "metadata": {},
   "outputs": [
    {
     "name": "stdout",
     "output_type": "stream",
     "text": [
      "\u001b[1m============================= test session starts ==============================\u001b[0m\n",
      "platform linux -- Python 3.7.3, pytest-5.0.1, py-1.8.0, pluggy-0.12.0 -- /home/ovewh/anaconda3/bin/python\n",
      "cachedir: .pytest_cache\n",
      "rootdir: /home/ovewh/Documents/FYS4150/Computilus/Project2/src/python\n",
      "plugins: openfiles-0.3.2, arraydiff-0.3, doctestplus-0.3.0, remotedata-0.3.1\n",
      "collected 6 items                                                              \u001b[0m\n",
      "\n",
      "test.py::test_MaxElemOffDiag[prog0] \u001b[32mPASSED\u001b[0m\u001b[36m                               [ 16%]\u001b[0m\n",
      "test.py::test_MaxElemOffDiag[prog1] \u001b[32mPASSED\u001b[0m\u001b[36m                               [ 33%]\u001b[0m\n",
      "test.py::test_MaxElemOffDiag[prog2] \u001b[32mPASSED\u001b[0m\u001b[36m                               [ 50%]\u001b[0m\n",
      "test.py::test_Eigenvalues[prog0-200] \u001b[32mPASSED\u001b[0m\u001b[36m                              [ 66%]\u001b[0m\n",
      "test.py::test_Eigenvalues[prog1-200] \u001b[32mPASSED\u001b[0m\u001b[36m                              [ 83%]\u001b[0m\n",
      "test.py::test_Eigenvalues[prog2-20] \u001b[32mPASSED\u001b[0m\u001b[36m                               [100%]\u001b[0m\n",
      "\n",
      "\u001b[32m\u001b[1m=========================== 6 passed in 6.55 seconds ===========================\u001b[0m\n"
     ]
    }
   ],
   "source": [
    "!pytest test.py -v"
   ]
  },
  {
   "cell_type": "code",
   "execution_count": 2,
   "metadata": {},
   "outputs": [
    {
     "name": "stdout",
     "output_type": "stream",
     "text": [
      "(2.5087404597958085, 0.014017215243338566)\n",
      "(3.045377575096791, 0.10361116559760723)\n"
     ]
    }
   ],
   "source": [
    "import numbaJacobi\n",
    "import cythonJacobi\n",
    "\n",
    "print(cythonJacobi.timeJacobi(200,10))\n",
    "print(numbaJacobi.timeJacobi(200, 10))"
   ]
  },
  {
   "cell_type": "code",
   "execution_count": 6,
   "metadata": {},
   "outputs": [
    {
     "name": "stdout",
     "output_type": "stream",
     "text": [
      "144\n",
      "144\n"
     ]
    }
   ],
   "source": [
    "import pythonJacobi\n",
    "import numbaJacobi\n",
    "# pythonJacobi.timeJacobi(25,10)\n",
    "\n",
    "N = 10\n",
    "h = 1./(N)\n",
    "d = 2./(h**2)\n",
    "a = -1./(h**2)\n",
    "\n",
    "print(pythonJacobi.run(N, a, d)[0])\n",
    "print(numbaJacobi.run(N, a, d)[0])"
   ]
  },
  {
   "cell_type": "markdown",
   "metadata": {},
   "source": [
    "* To evaluate the performance of we will use the profiling tools included in the jupyter suite\n"
   ]
  },
  {
   "cell_type": "code",
   "execution_count": 20,
   "metadata": {},
   "outputs": [],
   "source": [
    "import pythonJacobi\n",
    "import numbaJacobi\n",
    "import cythonJacobi\n",
    "import numpy as np\n",
    "import time\n",
    "import matplotlib.pyplot as plt\n",
    "#Defining the size of our test matrices\n",
    "nDims = [5,10, 20 ,50, 100 ,200]"
   ]
  },
  {
   "cell_type": "code",
   "execution_count": 7,
   "metadata": {
    "scrolled": false
   },
   "outputs": [],
   "source": [
    "\n",
    "\n",
    "def run(prog, A, N,timings=None ,runs = 10):\n",
    "    A_c = A.copy()\n",
    "    if runs == 10:\n",
    "        timings = timings\n",
    "        runs = runs -1\n",
    "        run(prog,A_c,N, timings, runs=runs)\n",
    "    elif (runs > 0):\n",
    "        runs = runs -1\n",
    "        run(prog,A_c,N, timings, runs=runs)\n",
    "        \n",
    "#     iterations = 0\n",
    "    A_c = A.copy()\n",
    "    t0 = time.time()\n",
    "    offDiagMax = prog.maxElemOffDiag(A,N)[0]\n",
    "    while(offDiagMax > 10e-9):\n",
    "#         iterations += 1\n",
    "        offDiagMax, row, col = prog.maxElemOffDiag(A, N)\n",
    "        A = prog.jacobiRotate(A,row, col, N)\n",
    "\n",
    "    t1 = time.time()\n",
    "    t = t1-t0\n",
    "    timings.append(t)\n",
    "    \n",
    "    \n",
    "    "
   ]
  },
  {
   "cell_type": "code",
   "execution_count": 21,
   "metadata": {},
   "outputs": [
    {
     "data": {
      "text/plain": [
       "[7.288455963134765e-05,\n",
       " 0.0004121065139770508,\n",
       " 0.003709101676940918,\n",
       " 0.036400675773620605,\n",
       " 0.37728879451751707,\n",
       " 4.318577551841736]"
      ]
     },
     "execution_count": 21,
     "metadata": {},
     "output_type": "execute_result"
    }
   ],
   "source": [
    "cythonavgTime = []\n",
    "testMarices = []\n",
    "\n",
    "for nDim in nDims:\n",
    "    h = 1./(nDim)\n",
    "    d = 2./(h**2)\n",
    "    a = -1./(h**2)\n",
    "    testMarices.append(cythonJacobi.create_toeplitz(d, a, nDim))\n",
    "for i in range(len(nDims)):\n",
    "    timings = []\n",
    "    run(cythonJacobi, testMarices[i], nDims[i], timings)\n",
    "    cythonavgTime.append(np.mean(timings))\n",
    "    \n",
    "cythonavgTime"
   ]
  },
  {
   "cell_type": "code",
   "execution_count": 24,
   "metadata": {},
   "outputs": [
    {
     "data": {
      "text/plain": [
       "[0.0001523733139038086,\n",
       " 0.000995945930480957,\n",
       " 0.005467128753662109,\n",
       " 0.018185853958129883,\n",
       " 0.2322016477584839,\n",
       " 3.3823241710662844]"
      ]
     },
     "execution_count": 24,
     "metadata": {},
     "output_type": "execute_result"
    }
   ],
   "source": [
    "testMarices = []\n",
    "numbaAvgTime = []\n",
    "\n",
    "for nDim in nDims:\n",
    "    h = 1./(nDim)\n",
    "    d = 2./(h**2)\n",
    "    a = -1./(h**2)\n",
    "    testMarices.append(numbaJacobi.create_toeplitz(d, a, nDim))\n",
    "\n",
    "for i in range(len(nDims)):\n",
    "    timings = []\n",
    "    run(numbaJacobi, testMarices[i], nDims[i], timings)\n",
    "    numbaAvgTime.append(np.mean(timings))\n",
    "numbaAvgTime"
   ]
  },
  {
   "cell_type": "code",
   "execution_count": 16,
   "metadata": {},
   "outputs": [],
   "source": [
    "testMarices = []\n",
    "pythonAvgTime = []\n",
    "\n",
    "for nDim in nDims:\n",
    "    h = 1./(nDim)\n",
    "    d = 2./(h**2)\n",
    "    a = -1./(h**2)\n",
    "    testMarices.append(pythonJacobi.create_toeplitz(d, a, nDim))\n",
    "\n",
    "for i in range(len(nDims[0:3])):\n",
    "    timings = []\n",
    "    run(pythonJacobi, testMarices[i], nDims[i], timings)\n",
    "    pythonAvgTime.append(np.mean(timings))    \n"
   ]
  },
  {
   "cell_type": "code",
   "execution_count": 28,
   "metadata": {},
   "outputs": [
    {
     "data": {
      "text/plain": [
       "[<matplotlib.lines.Line2D at 0x7fdfe21717f0>]"
      ]
     },
     "execution_count": 28,
     "metadata": {},
     "output_type": "execute_result"
    },
    {
     "data": {
      "image/png": "[encoded data removed]",
      "text/plain": [
       "<Figure size 432x288 with 1 Axes>"
      ]
     },
     "metadata": {
      "needs_background": "light"
     },
     "output_type": "display_data"
    }
   ],
   "source": [
    "plt.plot(nDims,cythonavgTime, '-', color = 'blueviolet')\n",
    "plt.plot(nDims,numbaAvgTime, 'x', color = 'violet')"
   ]
  }
 ],
 "metadata": {
  "kernelspec": {
   "display_name": "Python 3",
   "language": "python",
   "name": "python3"
  },
  "language_info": {
   "codemirror_mode": {
    "name": "ipython",
    "version": 3
   },
   "file_extension": ".py",
   "mimetype": "text/x-python",
   "name": "python",
   "nbconvert_exporter": "python",
   "pygments_lexer": "ipython3",
   "version": "3.7.3"
  }
 },
 "nbformat": 4,
 "nbformat_minor": 2
}
