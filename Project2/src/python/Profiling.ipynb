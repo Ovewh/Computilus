{
 "cells": [
  {
   "cell_type": "markdown",
   "metadata": {},
   "source": [
    "# Python timings\n",
    "\n",
    "Goal:\n",
    "\n",
    "* Evaluate the performance of Cython and Numba compared to standard python\n",
    "\n",
    "First run the test"
   ]
  },
  {
   "cell_type": "code",
   "execution_count": 10,
   "metadata": {},
   "outputs": [
    {
     "name": "stdout",
     "output_type": "stream",
     "text": [
      "\u001b[1m============================= test session starts ==============================\u001b[0m\n",
      "platform linux -- Python 3.7.3, pytest-5.0.1, py-1.8.0, pluggy-0.12.0 -- /home/ovewh/anaconda3/bin/python\n",
      "cachedir: .pytest_cache\n",
      "rootdir: /home/ovewh/Documents/FYS4150/Computilus/Project2/src/python\n",
      "plugins: openfiles-0.3.2, arraydiff-0.3, doctestplus-0.3.0, remotedata-0.3.1\n",
      "collected 9 items                                                              \u001b[0m\n",
      "\n",
      "test.py::test_MaxElemOffDiag[prog0] \u001b[32mPASSED\u001b[0m\u001b[36m                               [ 11%]\u001b[0m\n",
      "test.py::test_MaxElemOffDiag[prog1] \u001b[32mPASSED\u001b[0m\u001b[36m                               [ 22%]\u001b[0m\n",
      "test.py::test_MaxElemOffDiag[prog2] \u001b[32mPASSED\u001b[0m\u001b[36m                               [ 33%]\u001b[0m\n",
      "test.py::test_rotation[prog0] \u001b[32mPASSED\u001b[0m\u001b[36m                                     [ 44%]\u001b[0m\n",
      "test.py::test_rotation[prog1] \u001b[32mPASSED\u001b[0m\u001b[36m                                     [ 55%]\u001b[0m\n",
      "test.py::test_rotation[prog2] \u001b[32mPASSED\u001b[0m\u001b[36m                                     [ 66%]\u001b[0m\n",
      "test.py::test_Eigenvalues[prog0-225] \u001b[32mPASSED\u001b[0m\u001b[36m                              [ 77%]\u001b[0m\n",
      "test.py::test_Eigenvalues[prog1-225] \u001b[32mPASSED\u001b[0m\u001b[36m                              [ 88%]\u001b[0m\n",
      "test.py::test_Eigenvalues[prog2-20] \u001b[32mPASSED\u001b[0m\u001b[36m                               [100%]\u001b[0m\n",
      "\n",
      "\u001b[32m\u001b[1m========================== 9 passed in 13.89 seconds ===========================\u001b[0m\n"
     ]
    }
   ],
   "source": [
    "!pytest test.py -v"
   ]
  },
  {
   "cell_type": "markdown",
   "metadata": {},
   "source": [
    "* To evaluate the performance of we will use the profiling tools included in the jupyter suite\n"
   ]
  },
  {
   "cell_type": "code",
   "execution_count": 2,
   "metadata": {},
   "outputs": [],
   "source": [
    "import pythonJacobi\n",
    "import numbaJacobi\n",
    "import cythonJacobi\n",
    "import numpy as np\n",
    "import time\n",
    "#Defining the size of our test matrices\n",
    "nDims = [5,10, 20 ,50, 100 ,200]"
   ]
  },
  {
   "cell_type": "code",
   "execution_count": 7,
   "metadata": {
    "scrolled": false
   },
   "outputs": [],
   "source": [
    "\n",
    "\n",
    "def run(prog, A, N,timings=None ,runs = 10):\n",
    "    A_c = A.copy()\n",
    "    if runs == 10:\n",
    "        timings = timings\n",
    "        runs = runs -1\n",
    "        run(prog,A_c,N, timings, runs=runs)\n",
    "    elif (runs > 0):\n",
    "        runs = runs -1\n",
    "        run(prog,A_c,N, timings, runs=runs)\n",
    "        \n",
    "#     iterations = 0\n",
    "    A_c = A.copy()\n",
    "    t0 = time.time()\n",
    "    offDiagMax = prog.maxElemOffDiag(A,N)[0]\n",
    "    while(offDiagMax > 10e-9):\n",
    "#         iterations += 1\n",
    "        offDiagMax, row, col = prog.maxElemOffDiag(A, N)\n",
    "        A = prog.jacobiRotate(A,row, col, N)\n",
    "\n",
    "    t1 = time.time()\n",
    "    t = t1-t0\n",
    "    timings.append(t)\n",
    "    \n",
    "    \n",
    "    "
   ]
  },
  {
   "cell_type": "code",
   "execution_count": 8,
   "metadata": {},
   "outputs": [
    {
     "data": {
      "text/plain": [
       "[0.00027456283569335935,\n",
       " 0.0012024641036987305,\n",
       " 0.03915026187896729,\n",
       " 4.309332394599915]"
      ]
     },
     "execution_count": 8,
     "metadata": {},
     "output_type": "execute_result"
    }
   ],
   "source": [
    "cythonavgTime = []\n",
    "testMarices = []\n",
    "\n",
    "for nDim in nDims:\n",
    "    h = 1./(nDim)\n",
    "    d = 2./(h**2)\n",
    "    a = -1./(h**2)\n",
    "    testMarices.append(cythonJacobi.create_toeplitz(d, a, nDim))\n",
    "for i in range(len(nDims)):\n",
    "    timings = []\n",
    "    run(cythonJacobi, testMarices[i], nDims[i], timings)\n",
    "    cythonavgTime.append(np.mean(timings))\n",
    "    \n",
    "cythonavgTime"
   ]
  },
  {
   "cell_type": "code",
   "execution_count": 9,
   "metadata": {},
   "outputs": [
    {
     "data": {
      "text/plain": [
       "[0.03364124298095703,\n",
       " 0.00013506412506103516,\n",
       " 0.01658651828765869,\n",
       " 3.452531361579895]"
      ]
     },
     "execution_count": 9,
     "metadata": {},
     "output_type": "execute_result"
    }
   ],
   "source": [
    "testMarices = []\n",
    "numbaAvgTime = []\n",
    "\n",
    "for nDim in nDims:\n",
    "    h = 1./(nDim)\n",
    "    d = 2./(h**2)\n",
    "    a = -1./(h**2)\n",
    "    testMarices.append(numbaJacobi.create_toeplitz(d, a, nDim))\n",
    "\n",
    "for i in range(len(nDims)):\n",
    "    timings = []\n",
    "    run(numbaJacobi, testMarices[i], nDims[i], timings)\n",
    "    numbaAvgTime.append(np.mean(timings))\n",
    "numbaAvgTime"
   ]
  },
  {
   "cell_type": "code",
   "execution_count": 16,
   "metadata": {},
   "outputs": [],
   "source": [
    "testMarices = []\n",
    "pythonAvgTime = []\n",
    "\n",
    "for nDim in nDims:\n",
    "    h = 1./(nDim)\n",
    "    d = 2./(h**2)\n",
    "    a = -1./(h**2)\n",
    "    testMarices.append(pythonJacobi.create_toeplitz(d, a, nDim))\n",
    "\n",
    "for i in range(len(nDims[0:3])):\n",
    "    timings = []\n",
    "    run(pythonJacobi, testMarices[i], nDims[i], timings)\n",
    "    pythonAvgTime.append(np.mean(timings))    \n"
   ]
  },
  {
   "cell_type": "code",
   "execution_count": 18,
   "metadata": {},
   "outputs": [
    {
     "data": {
      "text/plain": [
       "888.1060833217142"
      ]
     },
     "execution_count": 18,
     "metadata": {},
     "output_type": "execute_result"
    }
   ],
   "source": [
    "pythonAvgTime[2]/numbaAvgTime[2]"
   ]
  }
 ],
 "metadata": {
  "kernelspec": {
   "display_name": "Python 3",
   "language": "python",
   "name": "python3"
  },
  "language_info": {
   "codemirror_mode": {
    "name": "ipython",
    "version": 3
   },
   "file_extension": ".py",
   "mimetype": "text/x-python",
   "name": "python",
   "nbconvert_exporter": "python",
   "pygments_lexer": "ipython3",
   "version": "3.7.3"
  }
 },
 "nbformat": 4,
 "nbformat_minor": 2
}
